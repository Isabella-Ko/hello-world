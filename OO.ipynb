{
 "cells": [
  {
   "cell_type": "code",
   "execution_count": 37,
   "metadata": {},
   "outputs": [
    {
     "name": "stdout",
     "output_type": "stream",
     "text": [
      "x =7  y =6\n",
      "7\n",
      "6\n",
      "7\n"
     ]
    }
   ],
   "source": [
    "import math\n",
    "class Point:\n",
    "    def __init__(self, initX, initY):\n",
    "        self.x = initX\n",
    "        self.y = initY\n",
    "    \n",
    "    def getX(self):\n",
    "        return self.x \n",
    "    \n",
    "    def getY(self):\n",
    "        return self.y \n",
    "    \n",
    "    def distance_from_origin(self):\n",
    "        return math.sqrt((self.x**2) + (self.y**2))\n",
    "    \n",
    "    def two_points_distance(self,target):\n",
    "        return math.sqrt(((x - self.x)**2)+(y - self.y)**2)\n",
    "    \n",
    "    def __str__(self):\n",
    "        return 'x ='+ str(self.x) +'  '+ 'y ='+ str(self.y)\n",
    "    \n",
    "    def halfway(self,target):\n",
    "        mx = (self.x + target.x)/2\n",
    "        my = (self.y + target.y)/2\n",
    "        return Point(mx,my)\n",
    "    \n",
    "    def move(self,dx,dy):\n",
    "        self.x = self.x + dx\n",
    "        self.y = self.x + dy\n",
    "    \n",
    "    def slope_from_origin(self):\n",
    "        if self.x == 0:\n",
    "            return None\n",
    "        else: \n",
    "            return self.y / self.x\n",
    "        \n",
    "p = Point(7,6)\n",
    "q = Point(5,4)\n",
    "print(p)\n",
    "print(p.getX())\n",
    "print(p.getY())\n",
    "print(p.x)\n"
   ]
  },
  {
   "cell_type": "code",
   "execution_count": 22,
   "metadata": {
    "scrolled": true
   },
   "outputs": [
    {
     "name": "stdout",
     "output_type": "stream",
     "text": [
      "9.219544457292887\n"
     ]
    }
   ],
   "source": [
    "print(p.distance_from_origin())"
   ]
  },
  {
   "cell_type": "code",
   "execution_count": 28,
   "metadata": {},
   "outputs": [
    {
     "name": "stdout",
     "output_type": "stream",
     "text": [
      "3.1622776601683795\n"
     ]
    }
   ],
   "source": [
    "print(p.two_points_distance(q))"
   ]
  },
  {
   "cell_type": "code",
   "execution_count": 32,
   "metadata": {},
   "outputs": [
    {
     "name": "stdout",
     "output_type": "stream",
     "text": [
      "x =6.0  y =5.0\n"
     ]
    }
   ],
   "source": [
    "print(p.halfway(q))"
   ]
  },
  {
   "cell_type": "markdown",
   "metadata": {},
   "source": [
    "# exercise1"
   ]
  },
  {
   "cell_type": "code",
   "execution_count": 35,
   "metadata": {},
   "outputs": [
    {
     "name": "stdout",
     "output_type": "stream",
     "text": [
      "x =6.0  y =5.0\n"
     ]
    }
   ],
   "source": [
    "# 1. Move\n",
    "print(p.halfway(q))"
   ]
  },
  {
   "cell_type": "code",
   "execution_count": 38,
   "metadata": {},
   "outputs": [
    {
     "name": "stdout",
     "output_type": "stream",
     "text": [
      "0.8571428571428571\n"
     ]
    }
   ],
   "source": [
    "# 2 slope_from_origin\n",
    "print(p.slope_from_origin())"
   ]
  },
  {
   "cell_type": "code",
   "execution_count": 40,
   "metadata": {},
   "outputs": [
    {
     "name": "stdout",
     "output_type": "stream",
     "text": [
      "1\n",
      "2\n",
      "1\n"
     ]
    }
   ],
   "source": [
    "a = 1\n",
    "def add_one(num):\n",
    "    num += 1\n",
    "    print(num)\n",
    "print(a)\n",
    "add_one(a)\n",
    "print(a)"
   ]
  },
  {
   "cell_type": "markdown",
   "metadata": {},
   "source": [
    "# inheritance"
   ]
  },
  {
   "cell_type": "code",
   "execution_count": 97,
   "metadata": {},
   "outputs": [],
   "source": [
    "class Animal:\n",
    "    def __init__(self,name, initialLocation):\n",
    "        print(\"Inside Animal: \", self)\n",
    "        self.name = name \n",
    "        self.location = initialLocation\n",
    "        \n",
    "class Dog(Animal):\n",
    "    def __init__(self, name, angry = False):\n",
    "        print(self)\n",
    "        print(Dog.__bases__)\n",
    "        Animal.__init__(self, name, 'entrance')\n",
    "        self.angry = angry\n",
    "\n",
    "class Dog2(Animal):\n",
    "    def __init__(self, name, angry = False):\n",
    "        print(self)\n",
    "        print(Dog2.__bases__)\n",
    "        super().__init__(name, 'Entrance') # bu chuan self\n",
    "        self.angry = angry\n",
    "        \n",
    "    def test(self, num):\n",
    "        return num + 1\n",
    "    \n",
    "    def test2(self, num):\n",
    "        return self.test(num) # bu chuan self\n",
    "\n",
    "class NotAnimal():\n",
    "    def __init__(self, name, angry = False):\n",
    "        print(self)\n",
    "        print(NotAnimal.__bases__)\n",
    "        Animal.__init__(self, name, 'Entrance')\n",
    "        self.angry = angry"
   ]
  },
  {
   "cell_type": "code",
   "execution_count": 98,
   "metadata": {},
   "outputs": [
    {
     "name": "stdout",
     "output_type": "stream",
     "text": [
      "<__main__.Dog object at 0x10fd86668>\n",
      "(<class '__main__.Animal'>,)\n",
      "Inside Animal:  <__main__.Dog object at 0x10fd86668>\n",
      "Bobby home False\n",
      "\n",
      "<__main__.Dog2 object at 0x10fd86da0>\n",
      "(<class '__main__.Animal'>,)\n",
      "Inside Animal:  <__main__.Dog2 object at 0x10fd86da0>\n",
      "Bobby Entrance False\n",
      "4\n",
      "\n",
      "<__main__.NotAnimal object at 0x10fd86668>\n",
      "(<class 'object'>,)\n",
      "Inside Animal:  <__main__.NotAnimal object at 0x10fd86668>\n",
      "Bobby Entrance False\n"
     ]
    }
   ],
   "source": [
    "d = Dog('Bobby',initialLocation = 'home')\n",
    "print(d.name, d.location, d.angry)\n",
    "print(\"\")\n",
    "d = Dog2('Bobby')\n",
    "print(d.name, d.location, d.angry)\n",
    "print(d.test2(3)) # bu chuan self\n",
    "print(\"\")\n",
    "d = NotAnimal('Bobby')\n",
    "print(d.name, d.location, d.angry)"
   ]
  },
  {
   "cell_type": "code",
   "execution_count": 101,
   "metadata": {
    "scrolled": false
   },
   "outputs": [
    {
     "name": "stdout",
     "output_type": "stream",
     "text": [
      "<__main__.Dog object at 0x110550320>\n",
      "(<class '__main__.Animal'>,)\n",
      "Inside Animal:  <__main__.Dog object at 0x110550320>\n",
      "Attila True False\n"
     ]
    }
   ],
   "source": [
    "d2 = Dog('Attila',True)\n",
    "print(d2.name, d2.location, d2.angry)"
   ]
  },
  {
   "cell_type": "code",
   "execution_count": 103,
   "metadata": {},
   "outputs": [
    {
     "name": "stdout",
     "output_type": "stream",
     "text": [
      "poly cage\n"
     ]
    }
   ],
   "source": [
    "class Location:\n",
    "    def __init__(self,location):\n",
    "        self.location = location\n",
    "        \n",
    "class Animal2: \n",
    "    def __init__(self, name, location):\n",
    "        self.name = name \n",
    "        if isinstance(location,str):\n",
    "            self.location = location\n",
    "        elif isinstance(location, Location):\n",
    "            self.location = Location.location\n",
    "            \n",
    "p = Animal2('poly','cage')\n",
    "print(p.name,p.location)\n",
    "            "
   ]
  },
  {
   "cell_type": "code",
   "execution_count": 105,
   "metadata": {},
   "outputs": [
    {
     "name": "stdout",
     "output_type": "stream",
     "text": [
      "Molly kitchen\n"
     ]
    }
   ],
   "source": [
    "kitchen = Location('kitchen')\n",
    "m = Animal2('Molly',kitchen.location)\n",
    "print(m.name,m.location)"
   ]
  },
  {
   "cell_type": "markdown",
   "metadata": {},
   "source": [
    "# Triangle and Polygon"
   ]
  },
  {
   "cell_type": "code",
   "execution_count": 107,
   "metadata": {},
   "outputs": [],
   "source": [
    "class Polygon:\n",
    "    def __init__(self,no_of_sides):\n",
    "        self.n = no_of_sides \n",
    "        self.sides = [0 for i in range(no_of_sides)]\n",
    "    def dispSides(self):\n",
    "        for i in range(self.n):\n",
    "            print('Side', i+1, 'is', self.sides[i])\n",
    "            \n",
    "class Triangle(Polygon):\n",
    "    def __init__(self):\n",
    "        Polygon.__init__(self, 3)\n",
    "        self.rightAngled = False\n"
   ]
  },
  {
   "cell_type": "code",
   "execution_count": 109,
   "metadata": {},
   "outputs": [
    {
     "name": "stdout",
     "output_type": "stream",
     "text": [
      "[0, 0, 0, 0]\n"
     ]
    }
   ],
   "source": [
    "p = Polygon(4)\n",
    "print(p.sides)"
   ]
  },
  {
   "cell_type": "code",
   "execution_count": 111,
   "metadata": {
    "scrolled": true
   },
   "outputs": [
    {
     "name": "stdout",
     "output_type": "stream",
     "text": [
      "Side 1 is 0\n",
      "Side 2 is 0\n",
      "Side 3 is 0\n",
      "None\n"
     ]
    }
   ],
   "source": [
    "t = Triangle()\n",
    "print(t.dispSides())"
   ]
  },
  {
   "cell_type": "markdown",
   "metadata": {},
   "source": [
    "# Farm "
   ]
  },
  {
   "cell_type": "code",
   "execution_count": 134,
   "metadata": {},
   "outputs": [],
   "source": [
    "class Farm():\n",
    "    def __init__(self, chickenList):\n",
    "        self.chikenList = chickenList\n",
    "        self.guardianDogs = [Dog('guardian', True) for i in range(2)]\n",
    "        \n",
    "\n",
    "class Animal2: \n",
    "    def __init__(self, name, location):\n",
    "        self.name = name \n",
    "        if isinstance(location,str):\n",
    "            self.location = location\n",
    "        elif isinstance(location, Location):\n",
    "            self.location = Location.location\n",
    "            \n",
    "    def get_name(self):\n",
    "        return self.name\n",
    "    \n",
    "    def get_location(self):\n",
    "        return self.location\n",
    "    \n",
    "    def __str__(self):\n",
    "        return '%s is in the %s'%(self.name, self.location)\n",
    "    \n",
    "    \n",
    "class Dog(Animal2):\n",
    "    def __init__(self,name,angry = False):\n",
    "        Animal2.__init__(self,name,'Entrance')\n",
    "        self.angry = angry\n",
    "    \n",
    "    def isAngry(self):\n",
    "        return self.angry\n",
    "    \n",
    "class Chicken(Animal2):\n",
    "    def __init__(self,name):\n",
    "        super().__init__(name, 'Building1')\n"
   ]
  },
  {
   "cell_type": "code",
   "execution_count": 135,
   "metadata": {
    "scrolled": true
   },
   "outputs": [
    {
     "name": "stdout",
     "output_type": "stream",
     "text": [
      "no name is in the Building1\n"
     ]
    }
   ],
   "source": [
    "my_chickens = [Chicken('no name') for i in range(4)]\n",
    "print(my_chickens[0])"
   ]
  },
  {
   "cell_type": "code",
   "execution_count": 136,
   "metadata": {},
   "outputs": [
    {
     "name": "stdout",
     "output_type": "stream",
     "text": [
      "no name is in the Building1\n"
     ]
    }
   ],
   "source": [
    "print(my_chickens[2])"
   ]
  },
  {
   "cell_type": "code",
   "execution_count": 138,
   "metadata": {
    "scrolled": true
   },
   "outputs": [
    {
     "name": "stdout",
     "output_type": "stream",
     "text": [
      "guardian is in the Entrance\n"
     ]
    }
   ],
   "source": [
    "f = Farm(my_chickens)\n",
    "print(f.guardianDogs[0])"
   ]
  },
  {
   "cell_type": "markdown",
   "metadata": {},
   "source": [
    "# Stack"
   ]
  },
  {
   "cell_type": "code",
   "execution_count": 149,
   "metadata": {},
   "outputs": [],
   "source": [
    "class Stack:\n",
    "    def __init__(self):\n",
    "        self.items = []\n",
    "        \n",
    "    def isEmpty(self):\n",
    "        return self.item == []\n",
    "    \n",
    "    def push(self, item):\n",
    "        self.items.insert(0,item)\n",
    "        \n",
    "    def pop(self):\n",
    "        top = self.items[0]\n",
    "        del self.items[0]\n",
    "        return top\n",
    "    \n",
    "    def dump(self):\n",
    "        self.items = []\n",
    "        \n",
    "    def size(self):\n",
    "        return len(self.items)\n",
    "    \n",
    "    def __str__(self):\n",
    "        text = 'Stack :'\n",
    "        for i in self.items:\n",
    "            text = text +' '+ str(i)\n",
    "        return text"
   ]
  },
  {
   "cell_type": "code",
   "execution_count": 150,
   "metadata": {},
   "outputs": [
    {
     "name": "stdout",
     "output_type": "stream",
     "text": [
      "None\n",
      "None\n",
      "None\n",
      "Stack : potato potato potato\n"
     ]
    }
   ],
   "source": [
    "s = Stack()\n",
    "print(s.push('potato'))\n",
    "print(s.push('potato'))\n",
    "print(s.push('potato'))\n",
    "print(s)"
   ]
  },
  {
   "cell_type": "code",
   "execution_count": 152,
   "metadata": {},
   "outputs": [
    {
     "name": "stdout",
     "output_type": "stream",
     "text": [
      "None\n",
      "Stack :\n"
     ]
    }
   ],
   "source": [
    "print(s.dump())\n",
    "print(s)"
   ]
  },
  {
   "cell_type": "markdown",
   "metadata": {},
   "source": [
    "# Comparison operators "
   ]
  },
  {
   "cell_type": "code",
   "execution_count": 153,
   "metadata": {},
   "outputs": [],
   "source": [
    "class Stack:\n",
    "    def __init__(self):\n",
    "        self.items = []\n",
    "        \n",
    "    def isEmpty(self):\n",
    "        return self.item == []\n",
    "    \n",
    "    def push(self, item):\n",
    "        self.items.insert(0,item)\n",
    "        \n",
    "    def pop(self):\n",
    "        top = self.items[0]\n",
    "        del self.items[0]\n",
    "        return top\n",
    "    \n",
    "    def dump(self):\n",
    "        self.items = []\n",
    "        \n",
    "    def size(self):\n",
    "        return len(self.items)\n",
    "    \n",
    "    def __str__(self):\n",
    "        text = 'Stack :'\n",
    "        for i in self.items:\n",
    "            text = text +' '+ str(i)\n",
    "        return text\n",
    "    \n",
    "    \n",
    "    ################comparison operator################# rewrite operators\n",
    "    \n",
    "    def __eq__(self, other_stack):\n",
    "        equal = True\n",
    "        if len(self.items) == len(other_stack.items):\n",
    "            for i in range(len(self.items)):\n",
    "                if self.items[i] != other_stack.items[i]:\n",
    "                    equal = False\n",
    "        else: \n",
    "            equal = False\n",
    "        return equal\n",
    "    \n",
    "    \n",
    "    def __gt__(self, other_stack):\n",
    "        return len(self.items) > len(other_stack.items)\n",
    "    \n",
    "    def __ge__(self, other_stack):\n",
    "        return len(self.items) >= len(other_stack.items)\n",
    "    \n",
    "    def __lt__(self, other_stack):\n",
    "        return len(self.items) < len(other_stack.items)\n",
    "    \n",
    "    def __le__(self, other_stack):\n",
    "        return len(self.items) <= len(other_stack.items)\n",
    "                    \n",
    "    "
   ]
  },
  {
   "cell_type": "code",
   "execution_count": 160,
   "metadata": {},
   "outputs": [
    {
     "name": "stdout",
     "output_type": "stream",
     "text": [
      "False\n"
     ]
    }
   ],
   "source": [
    "s1 = Stack()\n",
    "s1.push('potato')\n",
    "s1.push('potato')\n",
    "s1.push('potato')\n",
    "\n",
    "s2 = Stack()\n",
    "s2.push('tomato')\n",
    "s2.push('tomato')\n",
    "s2.push('tomato')\n",
    "\n",
    "print(s1>s2)"
   ]
  },
  {
   "cell_type": "code",
   "execution_count": 181,
   "metadata": {},
   "outputs": [],
   "source": [
    "from point import Point \n",
    "\n",
    "class Rectangle:\n",
    "    '''Rectangle class using Point, width, and height'''\n",
    "    def __init__(self, init_point, width, height):\n",
    "        self.leftlower = init_point\n",
    "        self.width = width\n",
    "        self.height = height\n",
    "    \n",
    "    def area(self):\n",
    "        return self.width*self.height\n",
    "    \n",
    "    def perimeter(self):\n",
    "        return 2*(self.width+self.height)\n",
    "    \n",
    "    def transpose(self):\n",
    "        self.width, self.height = self.height, self.width\n",
    "        \n",
    "    def contains(self,target):\n",
    "        a_w = self.leftlower.x + self.width\n",
    "        a_h = self.leftlower.y + self.height\n",
    "        return target.x > self.leftlower.x and target.y > self.leftlower.y and target.x < a_w and target.y < a_h\n",
    "    \n",
    "    def collide(self, rectangle):\n",
    "        lr = Point(rectangle.leftlower.x + rectangle.width,rectangle.leftlower.y)\n",
    "        ur = Point(rectangle.leftlower.x + rectangle.width,rectangle.leftlower.y + rectangle.height)\n",
    "        ul = Point(rectangle.leftlower.x, rectangle.leftlower.y + rectangle.height)\n",
    "        \n",
    "        return self.contains(rectangle.leftlower) or self.contains(lr) or self.contains(ur) or self.contains(ul)\n"
   ]
  },
  {
   "cell_type": "code",
   "execution_count": 182,
   "metadata": {},
   "outputs": [
    {
     "name": "stdout",
     "output_type": "stream",
     "text": [
      "x =4  y =5\n",
      "5\n",
      "6\n"
     ]
    }
   ],
   "source": [
    "lower_left = Point(4,5)\n",
    "r = Rectangle(lower_left, 5,6)\n",
    "print(r.leftlower)\n",
    "print(r.width)\n",
    "print(r.height)"
   ]
  },
  {
   "cell_type": "code",
   "execution_count": 183,
   "metadata": {},
   "outputs": [
    {
     "name": "stdout",
     "output_type": "stream",
     "text": [
      "True\n"
     ]
    }
   ],
   "source": [
    "r1p = Point(1,7)\n",
    "r1 = Rectangle(r1p,6,2)\n",
    "\n",
    "r2p = Point(3,5)\n",
    "r2 = Rectangle(r2p,5,7)\n",
    "\n",
    "print(r2.collide(r1))"
   ]
  },
  {
   "cell_type": "code",
   "execution_count": null,
   "metadata": {},
   "outputs": [],
   "source": []
  }
 ],
 "metadata": {
  "kernelspec": {
   "display_name": "Python 3",
   "language": "python",
   "name": "python3"
  },
  "language_info": {
   "codemirror_mode": {
    "name": "ipython",
    "version": 3
   },
   "file_extension": ".py",
   "mimetype": "text/x-python",
   "name": "python",
   "nbconvert_exporter": "python",
   "pygments_lexer": "ipython3",
   "version": "3.7.1"
  }
 },
 "nbformat": 4,
 "nbformat_minor": 2
}
